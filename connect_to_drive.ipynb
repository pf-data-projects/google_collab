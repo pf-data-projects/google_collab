{
  "nbformat": 4,
  "nbformat_minor": 0,
  "metadata": {
    "colab": {
      "provenance": [],
      "mount_file_id": "1Mg-7_gkUAaQYVurnTcTfkvxwaHaXkcgf",
      "authorship_tag": "ABX9TyPlPs44qO5DOD7YI+MMlUgI",
      "include_colab_link": true
    },
    "kernelspec": {
      "name": "python3",
      "display_name": "Python 3"
    },
    "language_info": {
      "name": "python"
    }
  },
  "cells": [
    {
      "cell_type": "markdown",
      "metadata": {
        "id": "view-in-github",
        "colab_type": "text"
      },
      "source": [
        "<a href=\"https://colab.research.google.com/github/pf-data-projects/google_collab/blob/main/connect_to_drive.ipynb\" target=\"_parent\"><img src=\"https://colab.research.google.com/assets/colab-badge.svg\" alt=\"Open In Colab\"/></a>"
      ]
    },
    {
      "cell_type": "markdown",
      "source": [
        "This is a test script to connect to google drive and import data from google sheet."
      ],
      "metadata": {
        "id": "HmK-vu3muDIH"
      }
    },
    {
      "cell_type": "code",
      "source": [
        "import pandas as pd\n",
        "import gspread\n",
        "from google.auth import default\n",
        "from google.colab import auth\n",
        "\n",
        "auth.authenticate_user()\n",
        "creds, _ = default()\n",
        "gc = gspread.authorize(creds)\n",
        "\n",
        "sheet = gc.open('Test spreadsheet').sheet1\n",
        "data = sheet.get_all_values()\n",
        "df = pd.DataFrame(data)\n",
        "df.columns = df.iloc[0]\n",
        "df.iloc[1:]\n",
        "df.reset_index(drop=True, inplace=True)\n",
        "\n",
        "print(df)"
      ],
      "metadata": {
        "id": "SpyvHUXruC5G"
      },
      "execution_count": null,
      "outputs": []
    }
  ]
}